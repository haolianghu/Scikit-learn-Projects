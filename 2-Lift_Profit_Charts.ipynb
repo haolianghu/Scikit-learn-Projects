{
 "cells": [
  {
   "cell_type": "code",
   "execution_count": 5,
   "metadata": {},
   "outputs": [
    {
     "name": "stdout",
     "output_type": "stream",
     "text": [
      "Requirement already satisfied: liac-arff in d:\\anaconda\\lib\\site-packages (2.5.0)\n"
     ]
    }
   ],
   "source": [
    "!pip install liac-arff"
   ]
  },
  {
   "cell_type": "code",
   "execution_count": 6,
   "metadata": {},
   "outputs": [
    {
     "name": "stdout",
     "output_type": "stream",
     "text": [
      "%pylab is deprecated, use %matplotlib inline and import the required libraries.\n",
      "Populating the interactive namespace from numpy and matplotlib\n"
     ]
    }
   ],
   "source": [
    "%pylab inline"
   ]
  },
  {
   "cell_type": "code",
   "execution_count": 7,
   "metadata": {},
   "outputs": [],
   "source": [
    "import pandas as pd\n",
    "import numpy as np\n",
    "import arff\n",
    "\n",
    "from sklearn import tree\n",
    "from sklearn.tree import DecisionTreeClassifier\n",
    "import requests\n",
    "from sklearn.model_selection import cross_val_predict\n",
    "\n",
    "# get data from online uing requests\n",
    "# here training_arff is more like the sample we would use for splitting\n",
    "# here testing_arff is more like the real life testing data we don't have for induction\n",
    "training_arff = requests.get('https://raw.githubusercontent.com/juwon0502/MIS-373-Predictive-Analytics/master/datasets/bank-training.arff')\n",
    "testing_arff = requests.get('https://raw.githubusercontent.com/juwon0502/MIS-373-Predictive-Analytics/master/datasets/bank-NewCustomers.arff')\n",
    "\n",
    "\n",
    "# read as arff file, need to import arff\n",
    "training_arff = arff.load(training_arff.text)\n",
    "testing_arff = arff.load(testing_arff.text)\n",
    "col_val = [attribute[0] for attribute in training_arff['attributes']]\n",
    "\n",
    "\n",
    "# transform arff file into pandas dataframe\n",
    "training_df = pd.DataFrame(training_arff['data'], columns = col_val)\n",
    "testing_df = pd.DataFrame(testing_arff['data'], columns = col_val)\n",
    "meta = training_arff['attributes']\n",
    "\n",
    "\n",
    "# replace values inside columns using pandas\n",
    "def clean_df(df):\n",
    "  cols = list(df.columns)\n",
    "  for col in cols:\n",
    "    try:\n",
    "      df = df.replace({col: {'YES': True, 'NO': False}})\n",
    "    except:\n",
    "      pass\n",
    "    pass\n",
    "  return df\n",
    "\n",
    "\n",
    "training_df = clean_df(training_df)\n",
    "training_df_dummy = pd.get_dummies(training_df)\n",
    "testing_df_dummy = pd.get_dummies(clean_df(testing_df))"
   ]
  },
  {
   "cell_type": "code",
   "execution_count": 8,
   "metadata": {},
   "outputs": [
    {
     "name": "stderr",
     "output_type": "stream",
     "text": [
      "C:\\Users\\Jack\\AppData\\Local\\Temp\\ipykernel_22972\\920838120.py:27: SettingWithCopyWarning: \n",
      "A value is trying to be set on a copy of a slice from a DataFrame\n",
      "\n",
      "See the caveats in the documentation: https://pandas.pydata.org/pandas-docs/stable/user_guide/indexing.html#returning-a-view-versus-a-copy\n",
      "  prob_df['TP'].loc[index] = True_Count\n"
     ]
    },
    {
     "data": {
      "image/png": "[encoded data removed]",
      "text/plain": [
       "<Figure size 432x288 with 1 Axes>"
      ]
     },
     "metadata": {
      "needs_background": "light"
     },
     "output_type": "display_data"
    },
    {
     "data": {
      "image/png": "[encoded data removed]",
      "text/plain": [
       "<Figure size 432x288 with 1 Axes>"
      ]
     },
     "metadata": {
      "needs_background": "light"
     },
     "output_type": "display_data"
    }
   ],
   "source": [
    "X = training_df_dummy.drop(columns = ['pep'])\n",
    "y = training_df_dummy.pep\n",
    "\n",
    "#Get the probability of each record being True\n",
    "decision_tree_model = DecisionTreeClassifier(criterion = \"entropy\", max_depth = 6,random_state=0).fit(X,y)\n",
    "prob_pred = cross_val_predict(decision_tree_model, X, y, cv=10, method=\"predict_proba\")\n",
    "prob = []\n",
    "#Choosing on only one of the two probabilities (one is for F, another for T) for each row\n",
    "for i in range(len(prob_pred)):\n",
    "    prob.append(prob_pred[i][1])  \n",
    "prob_pred = np.array(prob)\n",
    "\n",
    "\n",
    "#Create a dataframe\n",
    "prob_df = pd.DataFrame()\n",
    "prob_df['True']=y\n",
    "prob_df['Prob']=prob_pred\n",
    "prob_df['TP']=0\n",
    "prob_df = prob_df.sort_values('Prob', ascending = False)\n",
    "prob_df = prob_df.reset_index(drop=True)\n",
    "\n",
    "#Complete the dataframe with the TP (true positive) column\n",
    "True_Count = 0\n",
    "for index, row in prob_df.iterrows():\n",
    "    if(row['True'] == True):\n",
    "        True_Count += 1\n",
    "    prob_df['TP'].loc[index] = True_Count\n",
    "\n",
    "#Plot the lift chart\n",
    "plot(prob_df.index.values, prob_df.TP, marker='o', linestyle='-')\n",
    "xlabel('Size of population')\n",
    "ylabel('Number of positives')\n",
    "title('Lift Chart')\n",
    "show()\n",
    "\n",
    "\n",
    "#Revenue = 100, Cost = 70?\n",
    "cost_matrix = np.array(([100, 70], [0,0]))\n",
    "\n",
    "#Create the FP (false positive) column\n",
    "prob_df['FP'] = 0\n",
    "FP_Count = 0\n",
    "temp = 0\n",
    "for index, row in prob_df.iterrows():\n",
    "    if row['TP'] - temp == 0:\n",
    "        FP_Count += 1\n",
    "        prob_df.loc[index, 'FP'] = FP_Count\n",
    "    else:\n",
    "        prob_df.loc[index, 'FP'] = FP_Count\n",
    "    temp = row['TP']\n",
    "\n",
    "#Calculate the profit\n",
    "prob_df['Revenue'] = prob_df['TP'] * cost_matrix[0,0]\n",
    "prob_df['Cost'] = prob_df['FP'] * cost_matrix[0,1]\n",
    "prob_df['Profit'] = prob_df['Revenue'] - prob_df['Cost']\n",
    "\n",
    "# Plot the profit lift chart\n",
    "plot(prob_df.index.values, prob_df.Profit, marker='o', linestyle='-', color='red')\n",
    "xlabel('Size of population')\n",
    "ylabel('Profit')\n",
    "title('Profit Lift Chart')\n",
    "show()"
   ]
  }
 ],
 "metadata": {
  "kernelspec": {
   "display_name": "Python 3",
   "language": "python",
   "name": "python3"
  },
  "language_info": {
   "codemirror_mode": {
    "name": "ipython",
    "version": 3
   },
   "file_extension": ".py",
   "mimetype": "text/x-python",
   "name": "python",
   "nbconvert_exporter": "python",
   "pygments_lexer": "ipython3",
   "version": "3.9.12"
  },
  "orig_nbformat": 4
 },
 "nbformat": 4,
 "nbformat_minor": 2
}
