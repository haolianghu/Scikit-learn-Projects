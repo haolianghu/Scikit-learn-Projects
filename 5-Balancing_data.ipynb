{
  "cells": [
    {
      "cell_type": "code",
      "execution_count": 1,
      "metadata": {
        "id": "4b56WFVcQq1f"
      },
      "outputs": [
        {
          "name": "stdout",
          "output_type": "stream",
          "text": [
            "Requirement already satisfied: liac-arff in d:\\anaconda\\lib\\site-packages (2.5.0)\n"
          ]
        }
      ],
      "source": [
        "!pip install liac-arff"
      ]
    },
    {
      "cell_type": "code",
      "execution_count": 2,
      "metadata": {
        "id": "JQ5bCkP8QlKd"
      },
      "outputs": [],
      "source": [
        "# import libraries\n",
        "import pandas as pd\n",
        "import numpy as np\n",
        "from matplotlib import pyplot as plt\n",
        "import requests\n",
        "import arff\n",
        "\n",
        "# import data\n",
        "training_arff = requests.get('https://utexas.box.com/shared/static/7dqt596djfiz75bfzw5jz4bgk78cmkar.arff')\n",
        "finn_arff = arff.load(training_arff.text)\n",
        "\n",
        "# data cleaning\n",
        "col_val = [attribute[0] for attribute in finn_arff['attributes']]\n",
        "finn_df = pd.DataFrame(finn_arff['data'], columns = col_val)\n",
        "X_unbalanced = finn_df.drop(columns = ['TARGET'])\n",
        "y_unbalanced = finn_df.TARGET"
      ]
    },
    {
      "cell_type": "code",
      "execution_count": 3,
      "metadata": {
        "colab": {
          "base_uri": "https://localhost:8080/"
        },
        "id": "vDG8qkIfmKOI",
        "outputId": "5833bc5e-089c-4c90-ae5b-245ec44513d7"
      },
      "outputs": [
        {
          "name": "stdout",
          "output_type": "stream",
          "text": [
            "Using simply CT on unbalanced: 0.5425094794912851\n",
            "Using simply CT on balanced: 0.6701287358346545\n",
            "Using AdaBoost Classifier on balanced: 0.8110284187657801\n"
          ]
        },
        {
          "name": "stderr",
          "output_type": "stream",
          "text": [
            "d:\\Anaconda\\lib\\site-packages\\sklearn\\base.py:443: UserWarning: X has feature names, but DecisionTreeClassifier was fitted without feature names\n",
            "  warnings.warn(\n",
            "d:\\Anaconda\\lib\\site-packages\\sklearn\\base.py:443: UserWarning: X has feature names, but AdaBoostClassifier was fitted without feature names\n",
            "  warnings.warn(\n"
          ]
        }
      ],
      "source": [
        "# Import the libraries\n",
        "from sklearn.tree import DecisionTreeClassifier\n",
        "from sklearn.ensemble import AdaBoostClassifier\n",
        "from sklearn.metrics import roc_auc_score\n",
        "from sklearn.model_selection import cross_val_score\n",
        "from sklearn.model_selection import train_test_split\n",
        "from sklearn.utils import resample\n",
        "\n",
        "\n",
        "rstate=31\n",
        "# Split into training and testing sets\n",
        "X_train, X_test, y_train, y_test = train_test_split(X_unbalanced, y_unbalanced, test_size=0.3333, random_state=rstate)\n",
        "\n",
        "# Downsample majority class, where target == 0\n",
        "X_resampled, y_resampled = resample(X_train[y_train == '0'], y_train[y_train == '0'], n_samples=X_train[y_train == '1'].shape[0], random_state=rstate)\n",
        "\n",
        "# Combine minority class with downsampled majority class\n",
        "X_balanced = np.concatenate((X_train[y_train == '1'], X_resampled))\n",
        "y_balanced = np.concatenate((y_train[y_train == '1'], y_resampled))\n",
        "\n",
        "\n",
        "# Using simply CT \n",
        "model = DecisionTreeClassifier(criterion = 'entropy', min_samples_leaf=1, random_state=rstate)\n",
        "model.fit(X_unbalanced, y_unbalanced)\n",
        "print('Using simply CT on unbalanced:', cross_val_score(model, X_unbalanced, y_unbalanced, cv=3,scoring='roc_auc').mean())\n",
        "model.fit(X_balanced, y_balanced)\n",
        "# Need [:,1] because we only want the probability of being positive\n",
        "print (\"Using simply CT on balanced:\", roc_auc_score(y_test, model.predict_proba(X_test)[:,1]))\n",
        "\n",
        "\n",
        "# Using AdaBoost\n",
        "abc = AdaBoostClassifier(n_estimators=12,learning_rate=1, random_state=rstate)\n",
        "abcModel = abc.fit(X_balanced, y_balanced)\n",
        "# Need [:,1] because we only want the probability of being positive\n",
        "print ('Using AdaBoost Classifier on balanced:', roc_auc_score(y_test, abc.predict_proba(X_test)[:,1]))\n",
        "\n",
        "\n",
        "# The problem with this method is that we are not using cross-validation but only splitting the data into training and testing sets.\n",
        "# We can do cross-validation by dividing the data into three folds, and each time we will down size the majority class and train the model on the balanced data. \n",
        "# The first fold will be used for testing and the other two for training. We repeat until all folds are used for testing."
      ]
    }
  ],
  "metadata": {
    "colab": {
      "provenance": []
    },
    "kernelspec": {
      "display_name": "Python 3",
      "name": "python3"
    },
    "language_info": {
      "codemirror_mode": {
        "name": "ipython",
        "version": 3
      },
      "file_extension": ".py",
      "mimetype": "text/x-python",
      "name": "python",
      "nbconvert_exporter": "python",
      "pygments_lexer": "ipython3",
      "version": "3.9.12"
    }
  },
  "nbformat": 4,
  "nbformat_minor": 0
}
