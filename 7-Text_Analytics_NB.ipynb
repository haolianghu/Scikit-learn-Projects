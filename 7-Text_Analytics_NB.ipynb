{
  "cells": [
    {
      "cell_type": "code",
      "execution_count": 1,
      "metadata": {
        "colab": {
          "base_uri": "https://localhost:8080/"
        },
        "id": "4b56WFVcQq1f",
        "outputId": "42a0d403-956b-4751-e562-5bc1288bb520"
      },
      "outputs": [
        {
          "name": "stdout",
          "output_type": "stream",
          "text": [
            "Requirement already satisfied: liac-arff in c:\\users\\jack\\appdata\\local\\programs\\python\\python310\\lib\\site-packages (2.5.0)\n"
          ]
        },
        {
          "name": "stderr",
          "output_type": "stream",
          "text": [
            "\n",
            "[notice] A new release of pip is available: 23.0 -> 23.0.1\n",
            "[notice] To update, run: python.exe -m pip install --upgrade pip\n"
          ]
        }
      ],
      "source": [
        "!pip install liac-arff"
      ]
    },
    {
      "cell_type": "code",
      "execution_count": 2,
      "metadata": {
        "id": "JQ5bCkP8QlKd"
      },
      "outputs": [],
      "source": [
        "# import libraries\n",
        "import pandas as pd\n",
        "import numpy as np\n",
        "from matplotlib import pyplot as plt\n",
        "import requests\n",
        "import arff"
      ]
    },
    {
      "cell_type": "code",
      "execution_count": 3,
      "metadata": {
        "id": "UxlrM--PQ5bz"
      },
      "outputs": [
        {
          "name": "stdout",
          "output_type": "stream",
          "text": [
            "[[1 0 0 ... 1 0 1]\n",
            " [0 0 0 ... 1 0 1]\n",
            " [0 0 0 ... 1 1 0]\n",
            " ...\n",
            " [1 1 0 ... 1 1 1]\n",
            " [1 0 0 ... 1 0 0]\n",
            " [0 0 0 ... 1 0 1]]\n"
          ]
        },
        {
          "data": {
            "text/plain": [
              "array(['10', 'ability', 'able', 'about', 'above', 'absolutely', 'across',\n",
              "       'act', 'acting', 'action', 'actor', 'actors', 'actress', 'actual',\n",
              "       'actually', 'add', 'after', 'again', 'against', 'age', 'agent',\n",
              "       'ago', 'air', 'alien', 'all', 'almost', 'alone', 'along',\n",
              "       'already', 'also', 'although', 'always', 'am', 'amazing',\n",
              "       'america', 'american', 'among', 'amount', 'amusing', 'an', 'and',\n",
              "       'annoying', 'another', 'any', 'anyone', 'anything', 'anyway',\n",
              "       'apparently', 'appear', 'appearance', 'appears', 'are', 'aren',\n",
              "       'around', 'art', 'as', 'ask', 'asks', 'aspect', 'at', 'atmosphere',\n",
              "       'attempt', 'attempts', 'attention', 'audience', 'audiences',\n",
              "       'away', 'awful', 'back', 'background', 'bad', 'based', 'basically',\n",
              "       'battle', 'be', 'beautiful', 'because', 'become', 'becomes',\n",
              "       'been', 'before', 'begin', 'beginning', 'begins', 'behind',\n",
              "       'being', 'believable', 'believe', 'best', 'better', 'between',\n",
              "       'beyond', 'big', 'biggest', 'bill', 'bit', 'black', 'blood',\n",
              "       'body', 'book', 'boring', 'both', 'box', 'boy', 'break', 'brief',\n",
              "       'brilliant', 'bring', 'brings', 'brother', 'brothers', 'brought',\n",
              "       'budget', 'bunch', 'business', 'but', 'by', 'call', 'called',\n",
              "       'came', 'camera', 'can', 'cannot', 'car', 'care', 'career', 'case',\n",
              "       'cast', 'casting', 'caught', 'certain', 'certainly', 'chance',\n",
              "       'change', 'character', 'characters', 'chase', 'cheap', 'child',\n",
              "       'children', 'chris', 'cinema', 'cinematic', 'cinematography',\n",
              "       'city', 'class', 'classic', 'clear', 'clearly', 'clever', 'close',\n",
              "       'co', 'cold', 'come', 'comedy', 'comes', 'comic', 'coming',\n",
              "       'common', 'company', 'complete', 'completely', 'complex',\n",
              "       'computer', 'conclusion', 'constantly', 'control', 'convincing',\n",
              "       'cool', 'cop', 'could', 'couldn', 'country', 'couple', 'course',\n",
              "       'create', 'created', 'credit', 'credits', 'crew', 'crime', 'cut',\n",
              "       'dark', 'daughter', 'david', 'day', 'days', 'de', 'dead', 'deal',\n",
              "       'death', 'decent', 'decide', 'decides', 'deep', 'definitely',\n",
              "       'delivers', 'depth', 'despite', 'dialogue', 'did', 'didn', 'die',\n",
              "       'different', 'difficult', 'directed', 'direction', 'director',\n",
              "       'do', 'does', 'doesn', 'dog', 'doing', 'don', 'done', 'doubt',\n",
              "       'down', 'dr', 'drama', 'dramatic', 'dream', 'due', 'dull',\n",
              "       'during', 'each', 'earlier', 'early', 'earth', 'easily', 'easy',\n",
              "       'effect', 'effective', 'effects', 'effort', 'either', 'element',\n",
              "       'elements', 'else', 'emotional', 'end', 'ending', 'ends',\n",
              "       'english', 'enjoy', 'enjoyable', 'enough', 'entertaining',\n",
              "       'entertainment', 'entire', 'entirely', 'escape', 'especially',\n",
              "       'even', 'events', 'eventually', 'ever', 'every', 'everyone',\n",
              "       'everything', 'evil', 'ex', 'exactly', 'example', 'excellent',\n",
              "       'except', 'exciting', 'expect', 'expected', 'experience',\n",
              "       'extremely', 'eye', 'eyes', 'face', 'fact', 'fails', 'fairly',\n",
              "       'fall', 'falls', 'familiar', 'family', 'famous', 'fan', 'fans',\n",
              "       'far', 'fast', 'father', 'favorite', 'fear', 'feature', 'features',\n",
              "       'feel', 'feeling', 'feels', 'felt', 'female', 'few', 'fiction',\n",
              "       'fight', 'figure', 'filled', 'film', 'filmmakers', 'films',\n",
              "       'final', 'finally', 'find', 'finds', 'fine', 'fire', 'first',\n",
              "       'five', 'flat', 'flick', 'focus', 'follow', 'following', 'follows',\n",
              "       'for', 'force', 'forced', 'form', 'former', 'found', 'four',\n",
              "       'free', 'friend', 'friends', 'from', 'front', 'full', 'fun',\n",
              "       'funny', 'further', 'future', 'game', 'gave', 'general', 'genre',\n",
              "       'george', 'get', 'gets', 'getting', 'girl', 'girlfriend', 'give',\n",
              "       'given', 'gives', 'giving', 'go', 'god', 'goes', 'going', 'gone',\n",
              "       'good', 'got', 'great', 'greatest', 'group', 'guess', 'gun', 'guy',\n",
              "       'guys', 'had', 'half', 'hand', 'hands', 'happen', 'happened',\n",
              "       'happens', 'happy', 'hard', 'has', 'have', 'haven', 'having', 'he',\n",
              "       'head', 'hear', 'heard', 'heart', 'heavy', 'hell', 'help', 'her',\n",
              "       'here', 'hero', 'herself', 'high', 'highly', 'hilarious', 'him',\n",
              "       'himself', 'his', 'history', 'hit', 'hold', 'hollywood', 'home',\n",
              "       'hope', 'horror', 'hot', 'hour', 'hours', 'house', 'how',\n",
              "       'however', 'huge', 'human', 'humor', 'husband', 'idea', 'ideas',\n",
              "       'if', 'imagine', 'immediately', 'important', 'impossible',\n",
              "       'impressive', 'in', 'including', 'indeed', 'inside', 'instead',\n",
              "       'intelligent', 'interest', 'interesting', 'into', 'involved',\n",
              "       'involving', 'is', 'isn', 'it', 'its', 'itself', 'jack', 'james',\n",
              "       'jim', 'job', 'joe', 'john', 'joke', 'jokes', 'just', 'keep',\n",
              "       'keeps', 'kevin', 'key', 'kid', 'kids', 'kill', 'killed', 'killer',\n",
              "       'kind', 'king', 'know', 'known', 'knows', 'lack', 'large', 'last',\n",
              "       'late', 'later', 'latest', 'laugh', 'laughs', 'law', 'lead',\n",
              "       'leads', 'learn', 'least', 'leave', 'leaves', 'leaving', 'lee',\n",
              "       'left', 'less', 'let', 'level', 'life', 'light', 'like', 'liked',\n",
              "       'likely', 'line', 'lines', 'list', 'little', 'live', 'lives',\n",
              "       'living', 'll', 'local', 'long', 'longer', 'look', 'looking',\n",
              "       'looks', 'lost', 'lot', 'lots', 'love', 'low', 'made', 'main',\n",
              "       'major', 'make', 'makes', 'making', 'man', 'manages', 'many',\n",
              "       'mark', 'married', 'martin', 'material', 'matter', 'may', 'maybe',\n",
              "       'me', 'mean', 'means', 'meanwhile', 'meet', 'meets', 'member',\n",
              "       'members', 'memorable', 'men', 'merely', 'mess', 'message',\n",
              "       'michael', 'middle', 'might', 'million', 'mind', 'minor', 'minute',\n",
              "       'minutes', 'mission', 'modern', 'moment', 'moments', 'money',\n",
              "       'more', 'most', 'mostly', 'mother', 'motion', 'move', 'moves',\n",
              "       'movie', 'movies', 'moving', 'mr', 'much', 'murder', 'music',\n",
              "       'must', 'my', 'myself', 'mystery', 'name', 'named', 'nature',\n",
              "       'near', 'nearly', 'need', 'needs', 'neither', 'never', 'new',\n",
              "       'next', 'nice', 'night', 'no', 'non', 'none', 'nor', 'not', 'note',\n",
              "       'nothing', 'novel', 'now', 'number', 'obvious', 'obviously', 'of',\n",
              "       'off', 'offers', 'office', 'often', 'oh', 'old', 'on', 'once',\n",
              "       'one', 'ones', 'only', 'open', 'opening', 'opens', 'opportunity',\n",
              "       'or', 'order', 'original', 'oscar', 'other', 'others', 'otherwise',\n",
              "       'our', 'out', 'outside', 'over', 'overall', 'own', 'parents',\n",
              "       'part', 'particular', 'particularly', 'parts', 'past', 'paul',\n",
              "       'pay', 'people', 'perfect', 'perfectly', 'performance',\n",
              "       'performances', 'perhaps', 'person', 'personal', 'peter',\n",
              "       'picture', 'piece', 'place', 'plan', 'planet', 'play', 'played',\n",
              "       'playing', 'plays', 'plenty', 'plot', 'point', 'points', 'police',\n",
              "       'poor', 'popular', 'possible', 'possibly', 'potential', 'power',\n",
              "       'powerful', 'predictable', 'premise', 'presence', 'present',\n",
              "       'pretty', 'previous', 'probably', 'problem', 'problems',\n",
              "       'produced', 'production', 'project', 'proves', 'provide',\n",
              "       'purpose', 'put', 'puts', 'quality', 'question', 'questions',\n",
              "       'quick', 'quickly', 'quite', 'rated', 'rather', 'rating', 're',\n",
              "       'read', 'real', 'reality', 'realize', 'really', 'reason',\n",
              "       'reasons', 'recent', 'recently', 'red', 'relationship', 'release',\n",
              "       'released', 'remains', 'remember', 'rest', 'result', 'return',\n",
              "       'review', 'rich', 'ride', 'ridiculous', 'right', 'robert', 'robin',\n",
              "       'rock', 'role', 'roles', 'romance', 'romantic', 'room', 'run',\n",
              "       'running', 'runs', 'said', 'same', 'save', 'saw', 'say', 'saying',\n",
              "       'says', 'scene', 'scenes', 'school', 'science', 'score', 'scott',\n",
              "       'screen', 'screenplay', 'screenwriter', 'script', 'second',\n",
              "       'secret', 'see', 'seeing', 'seem', 'seemed', 'seemingly', 'seems',\n",
              "       'seen', 'sees', 'self', 'sense', 'sequel', 'sequence', 'sequences',\n",
              "       'series', 'serious', 'seriously', 'set', 'sets', 'setting',\n",
              "       'several', 'sex', 'sexual', 'she', 'short', 'shot', 'shots',\n",
              "       'should', 'show', 'showing', 'shown', 'shows', 'side', 'silly',\n",
              "       'similar', 'simple', 'simply', 'since', 'single', 'sit',\n",
              "       'situation', 'situations', 'six', 'slightly', 'slow', 'slowly',\n",
              "       'small', 'smart', 'so', 'society', 'solid', 'some', 'somehow',\n",
              "       'someone', 'something', 'sometimes', 'somewhat', 'somewhere',\n",
              "       'son', 'soon', 'sort', 'sound', 'sounds', 'soundtrack', 'space',\n",
              "       'special', 'spend', 'spent', 'stand', 'star', 'starring', 'stars',\n",
              "       'start', 'starts', 'state', 'stay', 'still', 'stop', 'stories',\n",
              "       'story', 'straight', 'strange', 'street', 'strong', 'stuff',\n",
              "       'stupid', 'style', 'subject', 'subtle', 'success', 'successful',\n",
              "       'such', 'suddenly', 'summer', 'supporting', 'supposed', 'sure',\n",
              "       'surprise', 'surprisingly', 'suspense', 'sweet', 'take', 'taken',\n",
              "       'takes', 'taking', 'tale', 'talent', 'talented', 'talk', 'talking',\n",
              "       'team', 'television', 'tell', 'telling', 'tells', 'ten', 'tension',\n",
              "       'terrible', 'than', 'that', 'the', 'theater', 'their', 'them',\n",
              "       'themselves', 'then', 'there', 'these', 'they', 'thing', 'things',\n",
              "       'think', 'thinking', 'thinks', 'third', 'this', 'those', 'though',\n",
              "       'thought', 'three', 'thriller', 'through', 'throughout', 'time',\n",
              "       'times', 'title', 'to', 'today', 'together', 'told', 'tom', 'tone',\n",
              "       'too', 'took', 'top', 'totally', 'towards', 'town', 'tries',\n",
              "       'trouble', 'true', 'truly', 'truth', 'try', 'trying', 'turn',\n",
              "       'turned', 'turns', 'tv', 'two', 'type', 'typical', 'ultimately',\n",
              "       'under', 'understand', 'unfortunately', 'unlike', 'until', 'up',\n",
              "       'upon', 'us', 'use', 'used', 'uses', 'using', 'usual', 'usually',\n",
              "       'various', 've', 'version', 'very', 'video', 'view', 'viewer',\n",
              "       'viewers', 'villain', 'violence', 'violent', 'visual', 'voice',\n",
              "       'wait', 'want', 'wanted', 'wants', 'war', 'was', 'wasn', 'waste',\n",
              "       'watch', 'watching', 'water', 'way', 'ways', 'we', 'well', 'went',\n",
              "       'were', 'what', 'whatever', 'when', 'where', 'whether', 'which',\n",
              "       'while', 'white', 'who', 'whole', 'whom', 'whose', 'why', 'wife',\n",
              "       'wild', 'will', 'william', 'williams', 'with', 'within', 'without',\n",
              "       'woman', 'women', 'won', 'wonder', 'wonderful', 'word', 'words',\n",
              "       'work', 'working', 'works', 'world', 'worse', 'worst', 'worth',\n",
              "       'would', 'wouldn', 'writer', 'writing', 'written', 'wrong',\n",
              "       'wrote', 'year', 'years', 'yes', 'yet', 'york', 'you', 'young',\n",
              "       'your'], dtype=object)"
            ]
          },
          "execution_count": 3,
          "metadata": {},
          "output_type": "execute_result"
        }
      ],
      "source": [
        "from sklearn.feature_extraction.text import CountVectorizer\n",
        "\n",
        "# get data from online\n",
        "training_arff = requests.get('https://utexas.box.com/shared/static/uxrdafsfgdxwin16hw2e2x5f3x4frj8h.arff')\n",
        "# read as arff file\n",
        "movie_arff = arff.load(training_arff.text)\n",
        "\n",
        "# get the attribute names\n",
        "col_val = [attribute[0] for attribute in movie_arff['attributes']]\n",
        "\n",
        "# create a pandas dataframe based on data and attribute names\n",
        "movie_df = pd.DataFrame(movie_arff['data'], columns = col_val)\n",
        "\n",
        "# Separate each of the reviews into a list\n",
        "text_data = movie_df['text'].tolist()\n",
        "\n",
        "# Create the CountVectorizer object\n",
        "# CountVectorizer is used to convert a collection of text documents to a vector of term/token counts.\n",
        "vectorizer = CountVectorizer(binary=True,max_features=1000)\n",
        "\n",
        "# Fit the vectorizer to the text data\n",
        "vectorizer.fit(text_data)\n",
        "\n",
        "# Transform the text data to a bag of words representation\n",
        "bag_of_words = vectorizer.transform(text_data)\n",
        "\n",
        "# Print the bag of words representation\n",
        "# Each row is a word, and each column is a review, if the word is in the review, the value is 1, otherwise 0\n",
        "print(bag_of_words.toarray())\n",
        "# Print an array of all the words\n",
        "vectorizer.get_feature_names_out()"
      ]
    },
    {
      "cell_type": "code",
      "execution_count": null,
      "metadata": {
        "id": "JsyeThm7jCCQ"
      },
      "outputs": [],
      "source": []
    },
    {
      "cell_type": "code",
      "execution_count": 4,
      "metadata": {
        "colab": {
          "base_uri": "https://localhost:8080/"
        },
        "id": "d_qmT8iumSPF",
        "outputId": "a7a09923-524f-4ddf-83ad-49ee7ee9a5ea"
      },
      "outputs": [
        {
          "name": "stdout",
          "output_type": "stream",
          "text": [
            "AUC score Classification Tree: 0.655905\n"
          ]
        }
      ],
      "source": [
        "from sklearn.tree import DecisionTreeClassifier\n",
        "from sklearn.model_selection import cross_val_score\n",
        "\n",
        "# print(bag_of_words.toarray())\n",
        "X = bag_of_words\n",
        "y = movie_df.iloc[:,1]\n",
        "model = DecisionTreeClassifier(criterion = 'entropy', max_depth = 5).fit(X, y)\n",
        "\n",
        "# Calculate the AUC score using cross-validation\n",
        "auc_scores = cross_val_score(model, X, y, cv=5, scoring='roc_auc')\n",
        "\n",
        "# Print the AUC scores for each fold of cross-validation\n",
        "print(\"AUC score Classification Tree:\", auc_scores.mean())"
      ]
    },
    {
      "cell_type": "code",
      "execution_count": 5,
      "metadata": {
        "colab": {
          "base_uri": "https://localhost:8080/"
        },
        "id": "g5GJ15AnhRx_",
        "outputId": "c8e01110-53df-401c-c678-371a5c610504"
      },
      "outputs": [
        {
          "name": "stdout",
          "output_type": "stream",
          "text": [
            "AUC scores for MultinomialNB 5 fold of cross-validation: 0.8937200000000001\n"
          ]
        }
      ],
      "source": [
        "# Need MultinomialNB and not GaussianNB because the data is not continuous\n",
        "from sklearn.naive_bayes import MultinomialNB\n",
        "\n",
        "model = MultinomialNB().fit(X, y)\n",
        "auc_scores = cross_val_score(model, X, y, cv=5, scoring='roc_auc')\n",
        "print(\"AUC scores for MultinomialNB 5 fold of cross-validation:\", auc_scores.mean())"
      ]
    },
    {
      "cell_type": "code",
      "execution_count": null,
      "metadata": {
        "id": "BA9qrUp3rCZy"
      },
      "outputs": [],
      "source": []
    },
    {
      "cell_type": "markdown",
      "metadata": {
        "id": "R9ECw8vtiOFU"
      },
      "source": [
        "Naive Bayes with top 250 words using Chi2"
      ]
    },
    {
      "cell_type": "code",
      "execution_count": 6,
      "metadata": {
        "colab": {
          "base_uri": "https://localhost:8080/"
        },
        "id": "qe0C9x3alb1a",
        "outputId": "2c773549-dc8b-4688-b8d4-a62f0292f5f0"
      },
      "outputs": [
        {
          "name": "stdout",
          "output_type": "stream",
          "text": [
            "AUC scores for MultinomialNB with top k words: 0.921095\n"
          ]
        }
      ],
      "source": [
        "# Naive Bayes with top 250 words using Chi2\n",
        "from sklearn.feature_selection import SelectKBest, chi2\n",
        "X_new = SelectKBest(chi2, k=250).fit_transform(X, y)\n",
        "\n",
        "model = MultinomialNB(force_alpha=True).fit(X_new, y)\n",
        "auc_scores = cross_val_score(model, X_new, y, cv=5, scoring='roc_auc')\n",
        "print(\"AUC scores for MultinomialNB with top k words:\", auc_scores.mean())"
      ]
    },
    {
      "cell_type": "markdown",
      "metadata": {
        "id": "F-2GTxSkiUMW"
      },
      "source": [
        "Naive Bayes with top 250 words using info gain"
      ]
    },
    {
      "cell_type": "code",
      "execution_count": 7,
      "metadata": {
        "colab": {
          "base_uri": "https://localhost:8080/"
        },
        "id": "0_Cb998SmeRp",
        "outputId": "857a6bfb-0737-4ef6-92fe-61c712ed44e2"
      },
      "outputs": [
        {
          "name": "stdout",
          "output_type": "stream",
          "text": [
            "AUC scores for MultinomialNB 5 fold of cross-validation: 0.92344\n"
          ]
        }
      ],
      "source": [
        "# Naive Bayes with top 250 words using info gain\n",
        "from sklearn.feature_selection import SelectKBest, mutual_info_classif\n",
        "X_new = SelectKBest(mutual_info_classif, k=250).fit_transform(X, y)\n",
        "\n",
        "model = MultinomialNB(force_alpha=True).fit(X_new, y)\n",
        "auc_scores = cross_val_score(model, X_new, y, cv=5, scoring='roc_auc')\n",
        "print(\"AUC scores for MultinomialNB 5 fold of cross-validation:\", auc_scores.mean())"
      ]
    },
    {
      "cell_type": "code",
      "execution_count": null,
      "metadata": {},
      "outputs": [],
      "source": []
    },
    {
      "attachments": {},
      "cell_type": "markdown",
      "metadata": {
        "id": "7RmRFXH3iisY"
      },
      "source": [
        "Naive bayes with wrapper method (can take long time)\n",
        "\n",
        "Wrapping without specifying n_features_to_select"
      ]
    },
    {
      "cell_type": "code",
      "execution_count": 8,
      "metadata": {
        "colab": {
          "background_save": true,
          "base_uri": "https://localhost:8080/"
        },
        "id": "YIHTbqYtnBTj",
        "outputId": "a5abf35a-e74f-4979-a5d1-5e3067862844"
      },
      "outputs": [
        {
          "name": "stderr",
          "output_type": "stream",
          "text": [
            "c:\\Users\\Jack\\AppData\\Local\\Programs\\Python\\Python310\\lib\\site-packages\\sklearn\\feature_selection\\_sequential.py:206: FutureWarning: Leaving `n_features_to_select` to None is deprecated in 1.0 and will become 'auto' in 1.3. To keep the same behaviour as with None (i.e. select half of the features) and avoid this warning, you should manually set `n_features_to_select='auto'` and set tol=None when creating an instance.\n",
            "  warnings.warn(\n",
            "c:\\Users\\Jack\\AppData\\Local\\Programs\\Python\\Python310\\lib\\site-packages\\joblib\\externals\\loky\\process_executor.py:700: UserWarning: A worker stopped while some jobs were given to the executor. This can be caused by a too short worker timeout or by a memory leak.\n",
            "  warnings.warn(\n"
          ]
        },
        {
          "name": "stdout",
          "output_type": "stream",
          "text": [
            "0.9562900000000001\n"
          ]
        }
      ],
      "source": [
        "# Naive Bayes with top 250 words using info gain\n",
        "from sklearn.feature_selection import SelectKBest, mutual_info_classif\n",
        "from sklearn.metrics import roc_auc_score\n",
        "from sklearn.model_selection import cross_val_predict\n",
        "\n",
        "folds=5\n",
        "X_new = SelectKBest(mutual_info_classif, k=250).fit_transform(X, y)\n",
        "model = MultinomialNB(force_alpha=True).fit(X_new, y)\n",
        "# Calculate the AUC score using cross-validation\n",
        "a=roc_auc_score(y, cross_val_predict(model, X, y,method='predict_proba', cv=folds)[:, 1])\n",
        "\n",
        "\n",
        "# SFS is a wrapper method that uses a base model to find the best combination of features\n",
        "from sklearn.feature_selection import SequentialFeatureSelector as SFS\n",
        "\n",
        "#Create the wrapping model using MultinomialNB as the base model\n",
        "#n_jobs is the number of cores to use, -1 means all cores\n",
        "sfs = SFS(model,direction='forward',scoring='roc_auc',cv=folds,n_jobs=-1)\n",
        "\n",
        "# Fit the model and find the best combination of features\n",
        "sfs1 = sfs.fit(X, y)\n",
        "# Change X to include only the selected features from the wrapping model \n",
        "X1=sfs1.transform(X)\n",
        "\n",
        "# Fit a naive bayes model again but using only the selected features after wrapping\n",
        "model = MultinomialNB(force_alpha=True).fit(X1, y)\n",
        "# Calculate the AUC score using cross-validation\n",
        "print(cross_val_score(model, X1, y, cv=folds,scoring='roc_auc').mean())\n",
        "a1=roc_auc_score(y, cross_val_predict(model, X1, y,method='predict_proba', cv=folds)[:, 1])"
      ]
    },
    {
      "cell_type": "code",
      "execution_count": 53,
      "metadata": {},
      "outputs": [
        {
          "name": "stdout",
          "output_type": "stream",
          "text": [
            "AUC score for MultinomialNB with top 250 features: 0.8936250000000001\n",
            "AUC score for wrapping with MultinomialNB: 0.954351\n"
          ]
        }
      ],
      "source": [
        "print('AUC score for MultinomialNB with top 250 features:', a)\n",
        "print('AUC score for wrapping with MultinomialNB:', a1)"
      ]
    },
    {
      "cell_type": "code",
      "execution_count": 55,
      "metadata": {},
      "outputs": [
        {
          "data": {
            "text/plain": [
              "array(['10', 'ability', 'about', 'above', 'across', 'act', 'actor',\n",
              "       'actual', 'after', 'against', 'ago', 'alien', 'all', 'also',\n",
              "       'amazing', 'america', 'american', 'amount', 'an', 'and',\n",
              "       'annoying', 'another', 'any', 'anyway', 'appear', 'appearance',\n",
              "       'appears', 'are', 'around', 'as', 'at', 'attempt', 'attempts',\n",
              "       'attention', 'audiences', 'away', 'awful', 'back', 'bad', 'based',\n",
              "       'battle', 'be', 'because', 'become', 'becomes', 'before', 'begin',\n",
              "       'beginning', 'being', 'believable', 'believe', 'bill', 'bit',\n",
              "       'body', 'book', 'boring', 'box', 'boy', 'brilliant', 'bring',\n",
              "       'brother', 'brought', 'by', 'came', 'camera', 'care', 'career',\n",
              "       'casting', 'change', 'character', 'characters', 'cheap', 'cinema',\n",
              "       'cinematic', 'city', 'class', 'clever', 'close', 'cold', 'come',\n",
              "       'comic', 'coming', 'common', 'company', 'complete', 'could',\n",
              "       'couldn', 'couple', 'credit', 'crew', 'crime', 'daughter', 'days',\n",
              "       'de', 'dead', 'deal', 'definitely', 'delivers', 'different',\n",
              "       'director', 'do', 'doubt', 'down', 'dramatic', 'dull', 'early',\n",
              "       'easily', 'easy', 'effort', 'either', 'element', 'end', 'ending',\n",
              "       'ends', 'english', 'enjoyable', 'entertaining', 'entertainment',\n",
              "       'entire', 'entirely', 'escape', 'especially', 'eventually',\n",
              "       'everything', 'ex', 'exactly', 'excellent', 'expect', 'expected',\n",
              "       'extremely', 'face', 'fact', 'fails', 'fairly', 'fall', 'falls',\n",
              "       'famous', 'fans', 'feature', 'felt', 'female', 'fight', 'figure',\n",
              "       'filled', 'film', 'filmmakers', 'final', 'find', 'fine', 'first',\n",
              "       'flat', 'follow', 'following', 'follows', 'for', 'found', 'four',\n",
              "       'friend', 'friends', 'from', 'fun', 'further', 'future', 'gave',\n",
              "       'genre', 'george', 'gets', 'girl', 'give', 'given', 'gives',\n",
              "       'giving', 'gone', 'great', 'group', 'happened', 'happens', 'happy',\n",
              "       'hard', 'has', 'have', 'having', 'he', 'hear', 'heard', 'heavy',\n",
              "       'help', 'here', 'hero', 'hilarious', 'him', 'his', 'history',\n",
              "       'hope', 'horror', 'hot', 'hour', 'human', 'imagine', 'important',\n",
              "       'in', 'instead', 'intelligent', 'into', 'involved', 'involving',\n",
              "       'it', 'itself', 'jack', 'jim', 'job', 'joe', 'john', 'jokes',\n",
              "       'keep', 'kevin', 'key', 'kid', 'kind', 'known', 'knows', 'last',\n",
              "       'later', 'latest', 'laughs', 'lead', 'learn', 'leave', 'level',\n",
              "       'life', 'liked', 'likely', 'list', 'little', 'live', 'local',\n",
              "       'longer', 'lost', 'lot', 'made', 'main', 'major', 'make', 'man',\n",
              "       'manages', 'many', 'mark', 'material', 'may', 'maybe', 'mean',\n",
              "       'members', 'memorable', 'merely', 'mess', 'michael', 'middle',\n",
              "       'million', 'modern', 'moment', 'more', 'most', 'motion', 'moves',\n",
              "       'mr', 'much', 'murder', 'name', 'named', 'nearly', 'neither',\n",
              "       'never', 'nice', 'night', 'none', 'not', 'note', 'nothing',\n",
              "       'obvious', 'of', 'off', 'offers', 'office', 'on', 'one', 'ones',\n",
              "       'only', 'open', 'opening', 'opportunity', 'oscar', 'other',\n",
              "       'others', 'our', 'out', 'outside', 'overall', 'parents', 'part',\n",
              "       'particular', 'past', 'paul', 'people', 'perfect', 'perfectly',\n",
              "       'performances', 'person', 'peter', 'piece', 'place', 'play',\n",
              "       'played', 'playing', 'plays', 'points', 'poor', 'popular',\n",
              "       'possible', 'potential', 'powerful', 'probably', 'problems',\n",
              "       'produced', 'production', 'project', 'purpose', 'put', 'quality',\n",
              "       'quick', 'quickly', 'quite', 'rated', 'rather', 'real', 'reality',\n",
              "       'realize', 'reason', 'recent', 'recently', 'release', 'released',\n",
              "       'rich', 'ridiculous', 'romantic', 'room', 'runs', 'same', 'saying',\n",
              "       'says', 'scenes', 'school', 'science', 'screen', 'screenplay',\n",
              "       'screenwriter', 'script', 'secret', 'see', 'seem', 'seemed',\n",
              "       'seemingly', 'seems', 'seen', 'sees', 'sense', 'sequel',\n",
              "       'sequence', 'serious', 'set', 'setting', 'sex', 'she', 'shots',\n",
              "       'should', 'show', 'showing', 'shown', 'shows', 'simple', 'simply',\n",
              "       'since', 'slightly', 'smart', 'somehow', 'something', 'sometimes',\n",
              "       'somewhat', 'somewhere', 'sound', 'soundtrack', 'spend', 'spent',\n",
              "       'star', 'starring', 'state', 'stay', 'stop', 'strange', 'stupid',\n",
              "       'style', 'subtle', 'success', 'such', 'summer', 'supporting',\n",
              "       'supposed', 'surprise', 'surprisingly', 'take', 'taken',\n",
              "       'talented', 'talk', 'talking', 'television', 'tell', 'telling',\n",
              "       'tension', 'terrible', 'than', 'that', 'the', 'theater', 'their',\n",
              "       'them', 'there', 'things', 'thinking', 'though', 'three',\n",
              "       'through', 'time', 'title', 'today', 'together', 'tom', 'tone',\n",
              "       'took', 'top', 'towards', 'town', 'tries', 'truly', 'try',\n",
              "       'trying', 'turned', 'tv', 'two', 'ultimately', 'understand',\n",
              "       'unfortunately', 'unlike', 'up', 'use', 'used', 'using', 've',\n",
              "       'very', 'video', 'violence', 'visual', 'wanted', 'was', 'wasn',\n",
              "       'waste', 'watching', 'water', 'way', 'ways', 'we', 'well', 'went',\n",
              "       'when', 'whether', 'who', 'whom', 'will', 'william', 'williams',\n",
              "       'with', 'within', 'without', 'woman', 'won', 'wonder', 'wonderful',\n",
              "       'word', 'words', 'work', 'working', 'works', 'worse', 'worst',\n",
              "       'worth', 'writer', 'writing', 'written', 'wrote', 'yet', 'york',\n",
              "       'your'], dtype=object)"
            ]
          },
          "execution_count": 55,
          "metadata": {},
          "output_type": "execute_result"
        }
      ],
      "source": [
        "# Print the names of the features selected by the wrapping model\n",
        "vectorizer.get_feature_names_out()[sfs1.get_support()]"
      ]
    },
    {
      "attachments": {},
      "cell_type": "markdown",
      "metadata": {},
      "source": [
        "Wrapping with n_features_to_select = 50"
      ]
    },
    {
      "cell_type": "code",
      "execution_count": 62,
      "metadata": {},
      "outputs": [
        {
          "name": "stdout",
          "output_type": "stream",
          "text": [
            "0.9045\n"
          ]
        }
      ],
      "source": [
        "# Naive Bayes with top 250 words using info gain\n",
        "from sklearn.feature_selection import SelectKBest, mutual_info_classif\n",
        "from sklearn.metrics import roc_auc_score\n",
        "from sklearn.model_selection import cross_val_predict\n",
        "\n",
        "folds=5\n",
        "X_new = SelectKBest(mutual_info_classif, k=250).fit_transform(X, y)\n",
        "model = MultinomialNB(force_alpha=True).fit(X_new, y)\n",
        "# Calculate the AUC score using cross-validation\n",
        "a=roc_auc_score(y, cross_val_predict(model, X, y,method='predict_proba', cv=folds)[:, 1])\n",
        "\n",
        "\n",
        "# SFS is a wrapper method that uses a base model to find the best combination of features\n",
        "from sklearn.feature_selection import SequentialFeatureSelector as SFS\n",
        "\n",
        "#Create the wrapping model using MultinomialNB as the base model\n",
        "#n_jobs is the number of cores to use, -1 means all cores\n",
        "#we select the top 50 features\n",
        "sfs = SFS(model,n_features_to_select=50,direction='forward',scoring='roc_auc',cv=folds,n_jobs=-1)\n",
        "\n",
        "# Fit the model and find the best combination of features\n",
        "sfs1 = sfs.fit(X, y)\n",
        "# Change X to include only the selected features from the wrapping model \n",
        "X1=sfs1.transform(X)\n",
        "\n",
        "# Fit a naive bayes model again but using only the selected features after wrapping\n",
        "model = MultinomialNB(force_alpha=True).fit(X1, y)\n",
        "# Calculate the AUC score using cross-validation\n",
        "print(cross_val_score(model, X1, y, cv=folds,scoring='roc_auc').mean())\n",
        "a1=roc_auc_score(y, cross_val_predict(model, X1, y,method='predict_proba', cv=folds)[:, 1])"
      ]
    },
    {
      "cell_type": "code",
      "execution_count": 63,
      "metadata": {},
      "outputs": [
        {
          "name": "stdout",
          "output_type": "stream",
          "text": [
            "AUC score for MultinomialNB with top 250 features: 0.8936250000000001\n",
            "AUC score for wrapping with MultinomialNB (n_features_to_select=50): 0.9034559999999999\n"
          ]
        }
      ],
      "source": [
        "print('AUC score for MultinomialNB with top 250 features:', a)\n",
        "print('AUC score for wrapping with MultinomialNB (n_features_to_select=50):', a1)"
      ]
    },
    {
      "cell_type": "code",
      "execution_count": 64,
      "metadata": {},
      "outputs": [
        {
          "data": {
            "text/plain": [
              "array(['10', 'america', 'attempt', 'awful', 'bad', 'boring', 'definitely',\n",
              "       'delivers', 'dull', 'easily', 'especially', 'extremely', 'fails',\n",
              "       'follow', 'great', 'have', 'hilarious', 'history', 'life', 'many',\n",
              "       'material', 'maybe', 'memorable', 'mess', 'modern', 'none',\n",
              "       'nothing', 'oscar', 'others', 'overall', 'perfect', 'perfectly',\n",
              "       'performances', 'powerful', 'quite', 'ridiculous', 'script',\n",
              "       'sequel', 'shows', 'sometimes', 'stupid', 'subtle', 'supposed',\n",
              "       'today', 'tries', 'unfortunately', 'very', 'waste', 'wonderful',\n",
              "       'worst'], dtype=object)"
            ]
          },
          "execution_count": 64,
          "metadata": {},
          "output_type": "execute_result"
        }
      ],
      "source": [
        "# Print the names of the features selected by the wrapping model\n",
        "vectorizer.get_feature_names_out()[sfs1.get_support()]"
      ]
    },
    {
      "attachments": {},
      "cell_type": "markdown",
      "metadata": {},
      "source": [
        "Wrapping with n_features_to_select = 'auto' and tol = 0.0005"
      ]
    },
    {
      "cell_type": "code",
      "execution_count": 69,
      "metadata": {},
      "outputs": [
        {
          "name": "stdout",
          "output_type": "stream",
          "text": [
            "0.92978\n"
          ]
        }
      ],
      "source": [
        "# Naive Bayes with top 250 words using info gain\n",
        "from sklearn.feature_selection import SelectKBest, mutual_info_classif\n",
        "from sklearn.metrics import roc_auc_score\n",
        "from sklearn.model_selection import cross_val_predict\n",
        "\n",
        "folds=5\n",
        "X_new = SelectKBest(mutual_info_classif, k=250).fit_transform(X, y)\n",
        "model = MultinomialNB(force_alpha=True).fit(X_new, y)\n",
        "# Calculate the AUC score using cross-validation\n",
        "a=roc_auc_score(y, cross_val_predict(model, X, y,method='predict_proba', cv=folds)[:, 1])\n",
        "\n",
        "\n",
        "# SFS is a wrapper method that uses a base model to find the best combination of features\n",
        "from sklearn.feature_selection import SequentialFeatureSelector as SFS\n",
        "\n",
        "#Create the wrapping model using MultinomialNB as the base model\n",
        "#n_jobs is the number of cores to use, -1 means all cores\n",
        "#tol is the tolerance for the stopping criteria, we set it to 0.0005 here\n",
        "sfs = SFS(model,n_features_to_select='auto',tol = 0.0005,direction='forward',scoring='roc_auc',cv=folds,n_jobs=-1)\n",
        "\n",
        "# Fit the model and find the best combination of features\n",
        "sfs1 = sfs.fit(X, y)\n",
        "# Change X to include only the selected features from the wrapping model \n",
        "X1=sfs1.transform(X)\n",
        "\n",
        "# Fit a naive bayes model again but using only the selected features after wrapping\n",
        "model = MultinomialNB(force_alpha=True).fit(X1, y)\n",
        "# Calculate the AUC score using cross-validation\n",
        "print(cross_val_score(model, X1, y, cv=folds,scoring='roc_auc').mean())\n",
        "a1=roc_auc_score(y, cross_val_predict(model, X1, y,method='predict_proba', cv=folds)[:, 1])"
      ]
    },
    {
      "cell_type": "code",
      "execution_count": 70,
      "metadata": {},
      "outputs": [
        {
          "name": "stdout",
          "output_type": "stream",
          "text": [
            "AUC score for MultinomialNB with top 250 features: 0.8936250000000001\n",
            "AUC score for wrapping with MultinomialNB (tol = 0.0005): 0.9286179999999999\n"
          ]
        }
      ],
      "source": [
        "print('AUC score for MultinomialNB with top 250 features:', a)\n",
        "print('AUC score for wrapping with MultinomialNB (tol = 0.0005):', a1)"
      ]
    },
    {
      "cell_type": "code",
      "execution_count": 71,
      "metadata": {},
      "outputs": [
        {
          "data": {
            "text/plain": [
              "array(['10', 'above', 'also', 'america', 'american', 'attempt',\n",
              "       'attention', 'awful', 'bad', 'become', 'boring', 'change', 'cheap',\n",
              "       'class', 'could', 'definitely', 'delivers', 'different', 'dull',\n",
              "       'easily', 'ending', 'entertaining', 'especially', 'excellent',\n",
              "       'expected', 'extremely', 'fails', 'female', 'flat', 'follow',\n",
              "       'great', 'have', 'hilarious', 'history', 'hour', 'known', 'life',\n",
              "       'many', 'material', 'may', 'maybe', 'memorable', 'mess', 'modern',\n",
              "       'most', 'neither', 'none', 'nothing', 'only', 'oscar', 'others',\n",
              "       'overall', 'perfect', 'perfectly', 'performances', 'poor',\n",
              "       'potential', 'powerful', 'quite', 'reason', 'ridiculous', 'script',\n",
              "       'sequel', 'should', 'shows', 'simple', 'sometimes', 'stupid',\n",
              "       'subtle', 'supposed', 'today', 'tom', 'town', 'tries',\n",
              "       'unfortunately', 'very', 'visual', 'waste', 'watching',\n",
              "       'wonderful', 'worst', 'yet'], dtype=object)"
            ]
          },
          "execution_count": 71,
          "metadata": {},
          "output_type": "execute_result"
        }
      ],
      "source": [
        "# Print the names of the features selected by the wrapping model\n",
        "vectorizer.get_feature_names_out()[sfs1.get_support()]"
      ]
    }
  ],
  "metadata": {
    "colab": {
      "provenance": []
    },
    "kernelspec": {
      "display_name": "Python 3",
      "name": "python3"
    },
    "language_info": {
      "codemirror_mode": {
        "name": "ipython",
        "version": 3
      },
      "file_extension": ".py",
      "mimetype": "text/x-python",
      "name": "python",
      "nbconvert_exporter": "python",
      "pygments_lexer": "ipython3",
      "version": "3.10.5"
    }
  },
  "nbformat": 4,
  "nbformat_minor": 0
}
