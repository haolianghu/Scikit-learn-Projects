{
  "cells": [
    {
      "cell_type": "code",
      "execution_count": 50,
      "metadata": {
        "colab": {
          "base_uri": "https://localhost:8080/"
        },
        "id": "4b56WFVcQq1f",
        "outputId": "1f1786cc-2585-4055-b453-9297a25e2129"
      },
      "outputs": [
        {
          "name": "stdout",
          "output_type": "stream",
          "text": [
            "Requirement already satisfied: liac-arff in /opt/anaconda3/lib/python3.9/site-packages (2.5.0)\n",
            "Requirement already satisfied: scikit-plot in /opt/anaconda3/lib/python3.9/site-packages (0.3.7)\n",
            "Requirement already satisfied: scikit-learn>=0.18 in /opt/anaconda3/lib/python3.9/site-packages (from scikit-plot) (1.0.2)\n",
            "Requirement already satisfied: scipy>=0.9 in /opt/anaconda3/lib/python3.9/site-packages (from scikit-plot) (1.9.1)\n",
            "Requirement already satisfied: joblib>=0.10 in /opt/anaconda3/lib/python3.9/site-packages (from scikit-plot) (1.1.0)\n",
            "Requirement already satisfied: matplotlib>=1.4.0 in /opt/anaconda3/lib/python3.9/site-packages (from scikit-plot) (3.5.2)\n",
            "Requirement already satisfied: cycler>=0.10 in /opt/anaconda3/lib/python3.9/site-packages (from matplotlib>=1.4.0->scikit-plot) (0.11.0)\n",
            "Requirement already satisfied: numpy>=1.17 in /opt/anaconda3/lib/python3.9/site-packages (from matplotlib>=1.4.0->scikit-plot) (1.21.5)\n",
            "Requirement already satisfied: kiwisolver>=1.0.1 in /opt/anaconda3/lib/python3.9/site-packages (from matplotlib>=1.4.0->scikit-plot) (1.4.2)\n",
            "Requirement already satisfied: pyparsing>=2.2.1 in /opt/anaconda3/lib/python3.9/site-packages (from matplotlib>=1.4.0->scikit-plot) (3.0.9)\n",
            "Requirement already satisfied: packaging>=20.0 in /opt/anaconda3/lib/python3.9/site-packages (from matplotlib>=1.4.0->scikit-plot) (22.0)\n",
            "Requirement already satisfied: pillow>=6.2.0 in /opt/anaconda3/lib/python3.9/site-packages (from matplotlib>=1.4.0->scikit-plot) (9.3.0)\n",
            "Requirement already satisfied: fonttools>=4.22.0 in /opt/anaconda3/lib/python3.9/site-packages (from matplotlib>=1.4.0->scikit-plot) (4.25.0)\n",
            "Requirement already satisfied: python-dateutil>=2.7 in /opt/anaconda3/lib/python3.9/site-packages (from matplotlib>=1.4.0->scikit-plot) (2.8.2)\n",
            "Requirement already satisfied: threadpoolctl>=2.0.0 in /opt/anaconda3/lib/python3.9/site-packages (from scikit-learn>=0.18->scikit-plot) (2.2.0)\n",
            "Requirement already satisfied: six>=1.5 in /opt/anaconda3/lib/python3.9/site-packages (from python-dateutil>=2.7->matplotlib>=1.4.0->scikit-plot) (1.16.0)\n"
          ]
        }
      ],
      "source": [
        "!pip install liac-arff\n",
        "!pip install scikit-plot"
      ]
    },
    {
      "cell_type": "code",
      "execution_count": 51,
      "metadata": {
        "id": "JQ5bCkP8QlKd"
      },
      "outputs": [],
      "source": [
        "# import libraries\n",
        "import pandas as pd\n",
        "import numpy as np\n",
        "from matplotlib import pyplot as plt\n",
        "import requests\n",
        "import arff"
      ]
    },
    {
      "cell_type": "code",
      "execution_count": 52,
      "metadata": {
        "id": "UxlrM--PQ5bz"
      },
      "outputs": [
        {
          "name": "stdout",
          "output_type": "stream",
          "text": [
            "[[1 0 0 ... 1 0 1]\n",
            " [0 0 0 ... 1 0 1]\n",
            " [0 0 0 ... 1 1 0]\n",
            " ...\n",
            " [1 1 0 ... 1 1 1]\n",
            " [1 0 0 ... 1 0 0]\n",
            " [0 0 0 ... 1 0 1]]\n"
          ]
        },
        {
          "data": {
            "text/plain": [
              "array(['10', 'ability', 'able', 'about', 'above', 'absolutely', 'across',\n",
              "       'act', 'acting', 'action', 'actor', 'actors', 'actress', 'actual',\n",
              "       'actually', 'add', 'after', 'again', 'against', 'age', 'agent',\n",
              "       'ago', 'air', 'alien', 'all', 'almost', 'alone', 'along',\n",
              "       'already', 'also', 'although', 'always', 'am', 'amazing',\n",
              "       'america', 'american', 'among', 'amount', 'amusing', 'an', 'and',\n",
              "       'annoying', 'another', 'any', 'anyone', 'anything', 'anyway',\n",
              "       'apparently', 'appear', 'appearance', 'appears', 'are', 'aren',\n",
              "       'around', 'art', 'as', 'ask', 'asks', 'aspect', 'at', 'atmosphere',\n",
              "       'attempt', 'attempts', 'attention', 'audience', 'audiences',\n",
              "       'away', 'awful', 'back', 'background', 'bad', 'based', 'basically',\n",
              "       'battle', 'be', 'beautiful', 'because', 'become', 'becomes',\n",
              "       'been', 'before', 'begin', 'beginning', 'begins', 'behind',\n",
              "       'being', 'believable', 'believe', 'best', 'better', 'between',\n",
              "       'beyond', 'big', 'biggest', 'bill', 'bit', 'black', 'blood',\n",
              "       'body', 'book', 'boring', 'both', 'box', 'boy', 'break', 'brief',\n",
              "       'brilliant', 'bring', 'brings', 'brother', 'brothers', 'brought',\n",
              "       'budget', 'bunch', 'business', 'but', 'by', 'call', 'called',\n",
              "       'came', 'camera', 'can', 'cannot', 'car', 'care', 'career', 'case',\n",
              "       'cast', 'casting', 'caught', 'certain', 'certainly', 'chance',\n",
              "       'change', 'character', 'characters', 'chase', 'cheap', 'child',\n",
              "       'children', 'chris', 'cinema', 'cinematic', 'cinematography',\n",
              "       'city', 'class', 'classic', 'clear', 'clearly', 'clever', 'close',\n",
              "       'co', 'cold', 'come', 'comedy', 'comes', 'comic', 'coming',\n",
              "       'common', 'company', 'complete', 'completely', 'complex',\n",
              "       'computer', 'conclusion', 'constantly', 'control', 'convincing',\n",
              "       'cool', 'cop', 'could', 'couldn', 'country', 'couple', 'course',\n",
              "       'create', 'created', 'credit', 'credits', 'crew', 'crime', 'cut',\n",
              "       'dark', 'daughter', 'david', 'day', 'days', 'de', 'dead', 'deal',\n",
              "       'death', 'decent', 'decide', 'decides', 'deep', 'definitely',\n",
              "       'delivers', 'depth', 'despite', 'dialogue', 'did', 'didn', 'die',\n",
              "       'different', 'difficult', 'directed', 'direction', 'director',\n",
              "       'do', 'does', 'doesn', 'dog', 'doing', 'don', 'done', 'doubt',\n",
              "       'down', 'dr', 'drama', 'dramatic', 'dream', 'due', 'dull',\n",
              "       'during', 'each', 'earlier', 'early', 'earth', 'easily', 'easy',\n",
              "       'effect', 'effective', 'effects', 'effort', 'either', 'element',\n",
              "       'elements', 'else', 'emotional', 'end', 'ending', 'ends',\n",
              "       'english', 'enjoy', 'enjoyable', 'enough', 'entertaining',\n",
              "       'entertainment', 'entire', 'entirely', 'escape', 'especially',\n",
              "       'even', 'events', 'eventually', 'ever', 'every', 'everyone',\n",
              "       'everything', 'evil', 'ex', 'exactly', 'example', 'excellent',\n",
              "       'except', 'exciting', 'expect', 'expected', 'experience',\n",
              "       'extremely', 'eye', 'eyes', 'face', 'fact', 'fails', 'fairly',\n",
              "       'fall', 'falls', 'familiar', 'family', 'famous', 'fan', 'fans',\n",
              "       'far', 'fast', 'father', 'favorite', 'fear', 'feature', 'features',\n",
              "       'feel', 'feeling', 'feels', 'felt', 'female', 'few', 'fiction',\n",
              "       'fight', 'figure', 'filled', 'film', 'filmmakers', 'films',\n",
              "       'final', 'finally', 'find', 'finds', 'fine', 'fire', 'first',\n",
              "       'five', 'flat', 'flick', 'focus', 'follow', 'following', 'follows',\n",
              "       'for', 'force', 'forced', 'form', 'former', 'found', 'four',\n",
              "       'free', 'friend', 'friends', 'from', 'front', 'full', 'fun',\n",
              "       'funny', 'further', 'future', 'game', 'gave', 'general', 'genre',\n",
              "       'george', 'get', 'gets', 'getting', 'girl', 'girlfriend', 'give',\n",
              "       'given', 'gives', 'giving', 'go', 'god', 'goes', 'going', 'gone',\n",
              "       'good', 'got', 'great', 'greatest', 'group', 'guess', 'gun', 'guy',\n",
              "       'guys', 'had', 'half', 'hand', 'hands', 'happen', 'happened',\n",
              "       'happens', 'happy', 'hard', 'has', 'have', 'haven', 'having', 'he',\n",
              "       'head', 'hear', 'heard', 'heart', 'heavy', 'hell', 'help', 'her',\n",
              "       'here', 'hero', 'herself', 'high', 'highly', 'hilarious', 'him',\n",
              "       'himself', 'his', 'history', 'hit', 'hold', 'hollywood', 'home',\n",
              "       'hope', 'horror', 'hot', 'hour', 'hours', 'house', 'how',\n",
              "       'however', 'huge', 'human', 'humor', 'husband', 'idea', 'ideas',\n",
              "       'if', 'imagine', 'immediately', 'important', 'impossible',\n",
              "       'impressive', 'in', 'including', 'indeed', 'inside', 'instead',\n",
              "       'intelligent', 'interest', 'interesting', 'into', 'involved',\n",
              "       'involving', 'is', 'isn', 'it', 'its', 'itself', 'jack', 'james',\n",
              "       'jim', 'job', 'joe', 'john', 'joke', 'jokes', 'just', 'keep',\n",
              "       'keeps', 'kevin', 'key', 'kid', 'kids', 'kill', 'killed', 'killer',\n",
              "       'kind', 'king', 'know', 'known', 'knows', 'lack', 'large', 'last',\n",
              "       'late', 'later', 'latest', 'laugh', 'laughs', 'law', 'lead',\n",
              "       'leads', 'learn', 'least', 'leave', 'leaves', 'leaving', 'lee',\n",
              "       'left', 'less', 'let', 'level', 'life', 'light', 'like', 'liked',\n",
              "       'likely', 'line', 'lines', 'list', 'little', 'live', 'lives',\n",
              "       'living', 'll', 'local', 'long', 'longer', 'look', 'looking',\n",
              "       'looks', 'lost', 'lot', 'lots', 'love', 'low', 'made', 'main',\n",
              "       'major', 'make', 'makes', 'making', 'man', 'manages', 'many',\n",
              "       'mark', 'married', 'martin', 'material', 'matter', 'may', 'maybe',\n",
              "       'me', 'mean', 'means', 'meanwhile', 'meet', 'meets', 'member',\n",
              "       'members', 'memorable', 'men', 'merely', 'mess', 'message',\n",
              "       'michael', 'middle', 'might', 'million', 'mind', 'minor', 'minute',\n",
              "       'minutes', 'mission', 'modern', 'moment', 'moments', 'money',\n",
              "       'more', 'most', 'mostly', 'mother', 'motion', 'move', 'moves',\n",
              "       'movie', 'movies', 'moving', 'mr', 'much', 'murder', 'music',\n",
              "       'must', 'my', 'myself', 'mystery', 'name', 'named', 'nature',\n",
              "       'near', 'nearly', 'need', 'needs', 'neither', 'never', 'new',\n",
              "       'next', 'nice', 'night', 'no', 'non', 'none', 'nor', 'not', 'note',\n",
              "       'nothing', 'novel', 'now', 'number', 'obvious', 'obviously', 'of',\n",
              "       'off', 'offers', 'office', 'often', 'oh', 'old', 'on', 'once',\n",
              "       'one', 'ones', 'only', 'open', 'opening', 'opens', 'opportunity',\n",
              "       'or', 'order', 'original', 'oscar', 'other', 'others', 'otherwise',\n",
              "       'our', 'out', 'outside', 'over', 'overall', 'own', 'parents',\n",
              "       'part', 'particular', 'particularly', 'parts', 'past', 'paul',\n",
              "       'pay', 'people', 'perfect', 'perfectly', 'performance',\n",
              "       'performances', 'perhaps', 'person', 'personal', 'peter',\n",
              "       'picture', 'piece', 'place', 'plan', 'planet', 'play', 'played',\n",
              "       'playing', 'plays', 'plenty', 'plot', 'point', 'points', 'police',\n",
              "       'poor', 'popular', 'possible', 'possibly', 'potential', 'power',\n",
              "       'powerful', 'predictable', 'premise', 'presence', 'present',\n",
              "       'pretty', 'previous', 'probably', 'problem', 'problems',\n",
              "       'produced', 'production', 'project', 'proves', 'provide',\n",
              "       'purpose', 'put', 'puts', 'quality', 'question', 'questions',\n",
              "       'quick', 'quickly', 'quite', 'rated', 'rather', 'rating', 're',\n",
              "       'read', 'real', 'reality', 'realize', 'really', 'reason',\n",
              "       'reasons', 'recent', 'recently', 'red', 'relationship', 'release',\n",
              "       'released', 'remains', 'remember', 'rest', 'result', 'return',\n",
              "       'review', 'rich', 'ride', 'ridiculous', 'right', 'robert', 'robin',\n",
              "       'rock', 'role', 'roles', 'romance', 'romantic', 'room', 'run',\n",
              "       'running', 'runs', 'said', 'same', 'save', 'saw', 'say', 'saying',\n",
              "       'says', 'scene', 'scenes', 'school', 'science', 'score', 'scott',\n",
              "       'screen', 'screenplay', 'screenwriter', 'script', 'second',\n",
              "       'secret', 'see', 'seeing', 'seem', 'seemed', 'seemingly', 'seems',\n",
              "       'seen', 'sees', 'self', 'sense', 'sequel', 'sequence', 'sequences',\n",
              "       'series', 'serious', 'seriously', 'set', 'sets', 'setting',\n",
              "       'several', 'sex', 'sexual', 'she', 'short', 'shot', 'shots',\n",
              "       'should', 'show', 'showing', 'shown', 'shows', 'side', 'silly',\n",
              "       'similar', 'simple', 'simply', 'since', 'single', 'sit',\n",
              "       'situation', 'situations', 'six', 'slightly', 'slow', 'slowly',\n",
              "       'small', 'smart', 'so', 'society', 'solid', 'some', 'somehow',\n",
              "       'someone', 'something', 'sometimes', 'somewhat', 'somewhere',\n",
              "       'son', 'soon', 'sort', 'sound', 'sounds', 'soundtrack', 'space',\n",
              "       'special', 'spend', 'spent', 'stand', 'star', 'starring', 'stars',\n",
              "       'start', 'starts', 'state', 'stay', 'still', 'stop', 'stories',\n",
              "       'story', 'straight', 'strange', 'street', 'strong', 'stuff',\n",
              "       'stupid', 'style', 'subject', 'subtle', 'success', 'successful',\n",
              "       'such', 'suddenly', 'summer', 'supporting', 'supposed', 'sure',\n",
              "       'surprise', 'surprisingly', 'suspense', 'sweet', 'take', 'taken',\n",
              "       'takes', 'taking', 'tale', 'talent', 'talented', 'talk', 'talking',\n",
              "       'team', 'television', 'tell', 'telling', 'tells', 'ten', 'tension',\n",
              "       'terrible', 'than', 'that', 'the', 'theater', 'their', 'them',\n",
              "       'themselves', 'then', 'there', 'these', 'they', 'thing', 'things',\n",
              "       'think', 'thinking', 'thinks', 'third', 'this', 'those', 'though',\n",
              "       'thought', 'three', 'thriller', 'through', 'throughout', 'time',\n",
              "       'times', 'title', 'to', 'today', 'together', 'told', 'tom', 'tone',\n",
              "       'too', 'took', 'top', 'totally', 'towards', 'town', 'tries',\n",
              "       'trouble', 'true', 'truly', 'truth', 'try', 'trying', 'turn',\n",
              "       'turned', 'turns', 'tv', 'two', 'type', 'typical', 'ultimately',\n",
              "       'under', 'understand', 'unfortunately', 'unlike', 'until', 'up',\n",
              "       'upon', 'us', 'use', 'used', 'uses', 'using', 'usual', 'usually',\n",
              "       'various', 've', 'version', 'very', 'video', 'view', 'viewer',\n",
              "       'viewers', 'villain', 'violence', 'violent', 'visual', 'voice',\n",
              "       'wait', 'want', 'wanted', 'wants', 'war', 'was', 'wasn', 'waste',\n",
              "       'watch', 'watching', 'water', 'way', 'ways', 'we', 'well', 'went',\n",
              "       'were', 'what', 'whatever', 'when', 'where', 'whether', 'which',\n",
              "       'while', 'white', 'who', 'whole', 'whom', 'whose', 'why', 'wife',\n",
              "       'wild', 'will', 'william', 'williams', 'with', 'within', 'without',\n",
              "       'woman', 'women', 'won', 'wonder', 'wonderful', 'word', 'words',\n",
              "       'work', 'working', 'works', 'world', 'worse', 'worst', 'worth',\n",
              "       'would', 'wouldn', 'writer', 'writing', 'written', 'wrong',\n",
              "       'wrote', 'year', 'years', 'yes', 'yet', 'york', 'you', 'young',\n",
              "       'your'], dtype=object)"
            ]
          },
          "execution_count": 52,
          "metadata": {},
          "output_type": "execute_result"
        }
      ],
      "source": [
        "from sklearn.feature_extraction.text import CountVectorizer\n",
        "\n",
        "# load the arff file\n",
        "movie_arff = arff.load(open('6-Movie_reviews-sentiments.arff'))\n",
        "\n",
        "# get the attribute names\n",
        "col_val = [attribute[0] for attribute in movie_arff['attributes']]\n",
        "\n",
        "# create a pandas dataframe based on data and attribute names\n",
        "movie_df = pd.DataFrame(movie_arff['data'], columns = col_val)\n",
        "\n",
        "# Separate each of the reviews into a list\n",
        "text_data = movie_df['text'].tolist()\n",
        "\n",
        "# Create the CountVectorizer object\n",
        "# CountVectorizer is used to convert a collection of text documents to a vector of term/token counts.\n",
        "vectorizer = CountVectorizer(binary=True,max_features=1000)\n",
        "\n",
        "# Fit the vectorizer to the text data\n",
        "vectorizer.fit(text_data)\n",
        "\n",
        "# Transform the text data to a bag of words representation\n",
        "bag_of_words = vectorizer.transform(text_data)\n",
        "\n",
        "# Print the bag of words representation\n",
        "# Each row is a word, and each column is a review, if the word is in the review, the value is 1, otherwise 0\n",
        "print(bag_of_words.toarray())\n",
        "# Print an array of all the words\n",
        "vectorizer.get_feature_names_out()"
      ]
    },
    {
      "cell_type": "code",
      "execution_count": null,
      "metadata": {
        "id": "vDG8qkIfmKOI"
      },
      "outputs": [],
      "source": []
    },
    {
      "cell_type": "markdown",
      "metadata": {
        "id": "z6QzVMMEmR2V"
      },
      "source": [
        "Feature (word) ranking"
      ]
    },
    {
      "cell_type": "code",
      "execution_count": 53,
      "metadata": {
        "id": "d_qmT8iumSPF"
      },
      "outputs": [
        {
          "name": "stdout",
          "output_type": "stream",
          "text": [
            "1 bad 0.03477498144284996\n",
            "2 worst 0.028714979914038874\n",
            "3 stupid 0.020421896579034572\n",
            "4 boring 0.019927310871732898\n",
            "5 ridiculous 0.017064387259379935\n",
            "6 waste 0.017064387259379935\n",
            "7 awful 0.016837018054957242\n",
            "8 mess 0.014520313687811828\n",
            "9 perfect 0.013126721531831503\n",
            "10 life 0.012934632927101675\n",
            "11 supposed 0.012921570094156176\n",
            "12 memorable 0.012120360451981053\n",
            "13 dull 0.011714396975496873\n",
            "14 excellent 0.010943278387290645\n",
            "15 perfectly 0.010564821442847538\n",
            "16 both 0.010555800671642135\n",
            "17 script 0.010544679447932359\n",
            "18 plot 0.01023763627065799\n",
            "19 subtle 0.010237251853571668\n",
            "20 performances 0.010157821863555544\n",
            "21 terrible 0.010002403823255318\n",
            "22 effective 0.009912354410119187\n",
            "23 wonderful 0.00989379981573578\n",
            "24 also 0.009462542466734059\n",
            "25 true 0.009219236722203428\n",
            "26 world 0.008872061750723137\n",
            "27 hilarious 0.008776276815859171\n",
            "28 great 0.008637316079904839\n",
            "29 brilliant 0.008415205149675434\n",
            "30 nothing 0.00839483924287232\n",
            "31 others 0.00837362669978342\n",
            "32 worse 0.008343364360560462\n",
            "33 unfortunately 0.008307499189145168\n",
            "34 best 0.007877973824719164\n",
            "35 many 0.007685009238984519\n",
            "36 why 0.007604749391868948\n",
            "37 minute 0.007540504819815594\n",
            "38 maybe 0.007454927773099751\n",
            "39 american 0.007393825340231197\n"
          ]
        }
      ],
      "source": [
        "from sklearn.feature_selection import SelectKBest\n",
        "from sklearn.feature_selection import mutual_info_classif\n",
        "\n",
        "# Each row is a word, and each column is a review, if the word is in the review, the value is 1, otherwise 0\n",
        "X = bag_of_words\n",
        "# The output column (positive or negative)\n",
        "y = movie_df.iloc[:,1]\n",
        "\n",
        "# Use mutual information to rank the features\n",
        "selector = SelectKBest(mutual_info_classif)\n",
        "selector.fit(X, y)\n",
        "scores = selector.scores_\n",
        "\n",
        "# Get the indices of the selected features\n",
        "selected_features_indices = selector.get_support(indices=True)\n",
        "\n",
        "# Get an array of all the words\n",
        "feature_names=vectorizer.get_feature_names_out()\n",
        "\n",
        "# Create a dictionary that maps feature names to their scores\n",
        "score_dict = dict(zip(feature_names, scores))\n",
        "\n",
        "# Sort the dictionary by scores in descending order\n",
        "sorted_dict = sorted(score_dict.items(), key=lambda x: x[1], reverse=True)\n",
        "sorted_dict\n",
        "i=0\n",
        "for x in sorted_dict:\n",
        "    i=i+1\n",
        "    if i<40:\n",
        "      print (i,x[0],x[1])\n",
        "    else:\n",
        "      break"
      ]
    },
    {
      "attachments": {},
      "cell_type": "markdown",
      "metadata": {},
      "source": [
        "Classification Tree with Naive Bayes Classifier"
      ]
    },
    {
      "cell_type": "code",
      "execution_count": 54,
      "metadata": {},
      "outputs": [
        {
          "name": "stdout",
          "output_type": "stream",
          "text": [
            "Accuracy:  0.683\n",
            "CV AUC with CT classifier:  0.6808026096191776\n"
          ]
        }
      ],
      "source": [
        "from sklearn import tree\n",
        "from sklearn.tree import DecisionTreeClassifier\n",
        "from sklearn.model_selection import cross_val_score\n",
        "from sklearn.metrics import accuracy_score\n",
        "\n",
        "model = DecisionTreeClassifier(criterion = 'entropy', max_depth = 5).fit(X, y)\n",
        "predicted = model.predict(X)\n",
        "accuracy = accuracy_score(predicted, y)\n",
        "print('Accuracy: ', accuracy)\n",
        "print('CV AUC with CT classifier: ', cross_val_score(model, X, y, cv=39,scoring='roc_auc').mean())"
      ]
    },
    {
      "cell_type": "code",
      "execution_count": 55,
      "metadata": {},
      "outputs": [
        {
          "name": "stdout",
          "output_type": "stream",
          "text": [
            "Accuracy:  0.8085\n",
            "CV AUC with NB classifier 0.858550295857988\n"
          ]
        }
      ],
      "source": [
        "from sklearn.naive_bayes import GaussianNB\n",
        "\n",
        "# Build a Gaussian Classifier\n",
        "NBmodel = GaussianNB()\n",
        "\n",
        "# Model training\n",
        "NBmodel.fit(X.toarray(), y)\n",
        "\n",
        "predicted = NBmodel.predict(X.toarray())\n",
        "accuracy = accuracy_score(predicted, y)\n",
        "print('Accuracy: ', accuracy)\n",
        "\n",
        "# Evaluation using cross validation AUC\n",
        "cv_auc = cross_val_score(NBmodel, X.toarray(), y, cv=39,scoring='roc_auc').mean()\n",
        "print('CV AUC with NB classifier', cv_auc)"
      ]
    }
  ],
  "metadata": {
    "colab": {
      "provenance": []
    },
    "kernelspec": {
      "display_name": "Python 3",
      "name": "python3"
    },
    "language_info": {
      "codemirror_mode": {
        "name": "ipython",
        "version": 3
      },
      "file_extension": ".py",
      "mimetype": "text/x-python",
      "name": "python",
      "nbconvert_exporter": "python",
      "pygments_lexer": "ipython3",
      "version": "3.9.13"
    }
  },
  "nbformat": 4,
  "nbformat_minor": 0
}
